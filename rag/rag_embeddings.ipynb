{
 "cells": [
  {
   "cell_type": "code",
   "id": "initial_id",
   "metadata": {
    "collapsed": true,
    "ExecuteTime": {
     "end_time": "2025-01-05T19:38:36.800382Z",
     "start_time": "2025-01-05T19:38:17.911185Z"
    }
   },
   "source": [
    "from transformers import AutoTokenizer, AutoModel\n",
    "import torch\n",
    "import matplotlib.pyplot as plt\n",
    "from sklearn.decomposition import PCA\n",
    "\n",
    "# Load model and tokenizer\n",
    "tokenizer = AutoTokenizer.from_pretrained(\"sentence-transformers/all-MiniLM-L6-v2\")\n",
    "model = AutoModel.from_pretrained(\"sentence-transformers/all-MiniLM-L6-v2\")\n"
   ],
   "outputs": [
    {
     "data": {
      "text/plain": [
       "tokenizer_config.json:   0%|          | 0.00/350 [00:00<?, ?B/s]"
      ],
      "application/vnd.jupyter.widget-view+json": {
       "version_major": 2,
       "version_minor": 0,
       "model_id": "707beb63c539474b97cb9bb7fc2ec3d5"
      }
     },
     "metadata": {},
     "output_type": "display_data"
    },
    {
     "data": {
      "text/plain": [
       "vocab.txt:   0%|          | 0.00/232k [00:00<?, ?B/s]"
      ],
      "application/vnd.jupyter.widget-view+json": {
       "version_major": 2,
       "version_minor": 0,
       "model_id": "99611910a0a54931b8d71c7356568b4c"
      }
     },
     "metadata": {},
     "output_type": "display_data"
    },
    {
     "data": {
      "text/plain": [
       "tokenizer.json:   0%|          | 0.00/466k [00:00<?, ?B/s]"
      ],
      "application/vnd.jupyter.widget-view+json": {
       "version_major": 2,
       "version_minor": 0,
       "model_id": "0bbf1e4d449b4b97b93aa1157b705559"
      }
     },
     "metadata": {},
     "output_type": "display_data"
    },
    {
     "data": {
      "text/plain": [
       "special_tokens_map.json:   0%|          | 0.00/112 [00:00<?, ?B/s]"
      ],
      "application/vnd.jupyter.widget-view+json": {
       "version_major": 2,
       "version_minor": 0,
       "model_id": "c729c9f15a6b44f38315fb971b5af3f6"
      }
     },
     "metadata": {},
     "output_type": "display_data"
    },
    {
     "data": {
      "text/plain": [
       "config.json:   0%|          | 0.00/612 [00:00<?, ?B/s]"
      ],
      "application/vnd.jupyter.widget-view+json": {
       "version_major": 2,
       "version_minor": 0,
       "model_id": "d46efaf03ba148289eb75d9ceea462f3"
      }
     },
     "metadata": {},
     "output_type": "display_data"
    },
    {
     "data": {
      "text/plain": [
       "model.safetensors:   0%|          | 0.00/90.9M [00:00<?, ?B/s]"
      ],
      "application/vnd.jupyter.widget-view+json": {
       "version_major": 2,
       "version_minor": 0,
       "model_id": "5b351dabdbe846f8a94064e6a9280be2"
      }
     },
     "metadata": {},
     "output_type": "display_data"
    }
   ],
   "execution_count": 2
  },
  {
   "metadata": {
    "ExecuteTime": {
     "end_time": "2025-01-05T19:39:21.938383Z",
     "start_time": "2025-01-05T19:39:21.923960Z"
    }
   },
   "cell_type": "code",
   "source": [
    "# example sentences\n",
    "sentences = [\n",
    "    \"I love eating pizza.\",\n",
    "    \"Pizza is my favorite food.\",\n",
    "    \"The weather today is beautiful.\",\n",
    "    \"It's raining cats and dogs outside.\",\n",
    "    \"Dogs are the best pets.\",\n",
    "    \"Cats make for cuddly companions.\"\n",
    "]\n"
   ],
   "id": "9da9c6002cc6889a",
   "outputs": [],
   "execution_count": 3
  },
  {
   "metadata": {
    "ExecuteTime": {
     "end_time": "2025-01-05T19:39:35.849232Z",
     "start_time": "2025-01-05T19:39:35.610784Z"
    }
   },
   "cell_type": "code",
   "source": [
    "# Tokenize and encode sentences for the model\n",
    "encoded_input = tokenizer(sentences, padding=True, truncation=True, return_tensors='pt')\n",
    "with torch.no_grad():\n",
    "    model_output = model(**encoded_input)\n"
   ],
   "id": "e1f9b0f22d3fc84",
   "outputs": [],
   "execution_count": 4
  },
  {
   "metadata": {
    "ExecuteTime": {
     "end_time": "2025-01-05T19:41:38.936690Z",
     "start_time": "2025-01-05T19:41:38.912293Z"
    }
   },
   "cell_type": "code",
   "source": "print(model_output.last_hidden_state.shape)",
   "id": "dbcb2c0d13cba92a",
   "outputs": [
    {
     "name": "stdout",
     "output_type": "stream",
     "text": [
      "torch.Size([6, 11, 384])\n"
     ]
    }
   ],
   "execution_count": 5
  },
  {
   "metadata": {
    "ExecuteTime": {
     "end_time": "2025-01-05T19:43:06.834806Z",
     "start_time": "2025-01-05T19:43:06.805737Z"
    }
   },
   "cell_type": "code",
   "source": "print(model_output.last_hidden_state[0])",
   "id": "77c35d8db1371b24",
   "outputs": [
    {
     "name": "stdout",
     "output_type": "stream",
     "text": [
      "tensor([[-0.3811,  0.3611,  0.1014,  ...,  0.3597, -0.2890, -0.3434],\n",
      "        [ 0.1423, -0.4193,  0.2515,  ...,  0.6906, -0.8627, -1.5261],\n",
      "        [-0.4461,  0.2012,  0.6818,  ...,  1.2945,  1.1702, -0.3048],\n",
      "        ...,\n",
      "        [-0.0490, -0.1900,  0.3440,  ...,  0.3841, -0.3651, -0.3669],\n",
      "        [-0.0742, -0.1368,  0.2802,  ...,  0.4178, -0.3834, -0.2065],\n",
      "        [-0.0538, -0.1496,  0.2658,  ...,  0.4124, -0.3144, -0.1891]])\n"
     ]
    }
   ],
   "execution_count": 6
  },
  {
   "metadata": {
    "ExecuteTime": {
     "end_time": "2025-01-05T19:44:53.990330Z",
     "start_time": "2025-01-05T19:44:53.960866Z"
    }
   },
   "cell_type": "code",
   "source": "print(encoded_input)",
   "id": "e4f27b4175c2bebe",
   "outputs": [
    {
     "name": "stdout",
     "output_type": "stream",
     "text": [
      "{'input_ids': tensor([[  101,  1045,  2293,  5983, 10733,  1012,   102,     0,     0,     0,\n",
      "             0],\n",
      "        [  101, 10733,  2003,  2026,  5440,  2833,  1012,   102,     0,     0,\n",
      "             0],\n",
      "        [  101,  1996,  4633,  2651,  2003,  3376,  1012,   102,     0,     0,\n",
      "             0],\n",
      "        [  101,  2009,  1005,  1055, 24057,  8870,  1998,  6077,  2648,  1012,\n",
      "           102],\n",
      "        [  101,  6077,  2024,  1996,  2190, 18551,  1012,   102,     0,     0,\n",
      "             0],\n",
      "        [  101,  8870,  2191,  2005, 12731, 14141,  2135, 11946,  1012,   102,\n",
      "             0]]), 'token_type_ids': tensor([[0, 0, 0, 0, 0, 0, 0, 0, 0, 0, 0],\n",
      "        [0, 0, 0, 0, 0, 0, 0, 0, 0, 0, 0],\n",
      "        [0, 0, 0, 0, 0, 0, 0, 0, 0, 0, 0],\n",
      "        [0, 0, 0, 0, 0, 0, 0, 0, 0, 0, 0],\n",
      "        [0, 0, 0, 0, 0, 0, 0, 0, 0, 0, 0],\n",
      "        [0, 0, 0, 0, 0, 0, 0, 0, 0, 0, 0]]), 'attention_mask': tensor([[1, 1, 1, 1, 1, 1, 1, 0, 0, 0, 0],\n",
      "        [1, 1, 1, 1, 1, 1, 1, 1, 0, 0, 0],\n",
      "        [1, 1, 1, 1, 1, 1, 1, 1, 0, 0, 0],\n",
      "        [1, 1, 1, 1, 1, 1, 1, 1, 1, 1, 1],\n",
      "        [1, 1, 1, 1, 1, 1, 1, 1, 0, 0, 0],\n",
      "        [1, 1, 1, 1, 1, 1, 1, 1, 1, 1, 0]])}\n"
     ]
    }
   ],
   "execution_count": 7
  },
  {
   "metadata": {
    "ExecuteTime": {
     "end_time": "2025-01-05T19:54:58.492368Z",
     "start_time": "2025-01-05T19:54:58.378503Z"
    }
   },
   "cell_type": "code",
   "source": [
    "# Use mean pooling to get one vector per sentence\n",
    "embeddings = model_output.last_hidden_state\n",
    "attention_mask = encoded_input['attention_mask']\n",
    "mask_expanded = attention_mask.unsqueeze(-1).expand(embeddings.size()).float()\n",
    "sum_embeddings = torch.sum(embeddings * mask_expanded, 1)\n",
    "sum_mask = torch.clamp(mask_expanded.sum(1), min=1e-9)\n",
    "mean_pooled = sum_embeddings / sum_mask\n"
   ],
   "id": "5f2d2fed541e9cc7",
   "outputs": [],
   "execution_count": 8
  },
  {
   "metadata": {
    "ExecuteTime": {
     "end_time": "2025-01-05T19:55:05.548282Z",
     "start_time": "2025-01-05T19:55:05.537390Z"
    }
   },
   "cell_type": "code",
   "source": "print(mean_pooled.shape)",
   "id": "38ad7a4bd3c9f78e",
   "outputs": [
    {
     "name": "stdout",
     "output_type": "stream",
     "text": [
      "torch.Size([6, 384])\n"
     ]
    }
   ],
   "execution_count": 9
  },
  {
   "metadata": {
    "ExecuteTime": {
     "end_time": "2025-01-05T19:55:41.757027Z",
     "start_time": "2025-01-05T19:55:40.765888Z"
    }
   },
   "cell_type": "code",
   "source": [
    "# Reduce dimensionality with PCA\n",
    "pca = PCA(n_components=2)\n",
    "embeddings_reduced = pca.fit_transform(mean_pooled)\n",
    "\n",
    "# Plot the embeddings\n",
    "plt.figure(figsize=(10, 7))\n",
    "plt.scatter(embeddings_reduced[:, 0], embeddings_reduced[:, 1])\n",
    "for i, sentence in enumerate(sentences):\n",
    "    plt.annotate(sentence, (embeddings_reduced[i, 0], embeddings_reduced[i, 1]))\n",
    "plt.show()"
   ],
   "id": "31698dce600cb5d4",
   "outputs": [
    {
     "data": {
      "text/plain": [
       "<Figure size 1000x700 with 1 Axes>"
      ],
      "image/png": "[encoded data removed]"
     },
     "metadata": {},
     "output_type": "display_data"
    }
   ],
   "execution_count": 10
  },
  {
   "metadata": {},
   "cell_type": "code",
   "outputs": [],
   "execution_count": null,
   "source": "",
   "id": "8515fd99b57ffc65"
  }
 ],
 "metadata": {
  "kernelspec": {
   "display_name": "Python 3",
   "language": "python",
   "name": "python3"
  },
  "language_info": {
   "codemirror_mode": {
    "name": "ipython",
    "version": 2
   },
   "file_extension": ".py",
   "mimetype": "text/x-python",
   "name": "python",
   "nbconvert_exporter": "python",
   "pygments_lexer": "ipython2",
   "version": "2.7.6"
  }
 },
 "nbformat": 4,
 "nbformat_minor": 5
}
